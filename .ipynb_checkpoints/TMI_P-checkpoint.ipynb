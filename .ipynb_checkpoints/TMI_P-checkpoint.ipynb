{
 "cells": [
  {
   "cell_type": "code",
   "execution_count": 17,
   "metadata": {},
   "outputs": [
    {
     "name": "stdout",
     "output_type": "stream",
     "text": [
      "181202_marker.csv\n",
      "csv file done\n",
      "all done\n"
     ]
    }
   ],
   "source": [
    "import os\n",
    "import csv\n",
    "\n",
    "directory = os.path.join(\"./twitch_marker_input/\")\n",
    "out_directory = './premiere_marker_output/'\n",
    "\n",
    "for root,dirs,files in os.walk(directory):\n",
    "    \n",
    "    for file in files:\n",
    "        print file\n",
    "        \n",
    "        if file.endswith(\".csv\"):\n",
    "            f=open(directory+file, 'r')\n",
    "            \n",
    "\n",
    "            with open(out_directory+file[:-4]+'_converted.csv','wb') as outfile:\n",
    "                #header\n",
    "                outfile.write('Screenlight Premiere Pro Marker Export 1.0\\n')\n",
    "                outfile.write('Name:,Time:,Duration:,Marker Color:,Comment:\\n')                \n",
    "                \n",
    "\n",
    "                #  perform calculation\n",
    "                reader = csv.reader(f)\n",
    "\n",
    "                for row in reader:\n",
    "\n",
    "                    timestamp = row[0]\n",
    "                    commentor = row[1]\n",
    "                    comment = row[3].decode('utf-8').encode('euc-kr')\n",
    "\n",
    "                    output_name = commentor\n",
    "                    outfile.write(output_name)\n",
    "                    outfile.write(',')\n",
    "\n",
    "                    #=(MID(C2;1;2)*3600)+(MID(C2;4;2)*60)+MID(C2;7;2)+(MID(C2;10;2)/25)\n",
    "                    #timestamp to sec\n",
    "                    output_time=timestamp2sec(timestamp)\n",
    "                    outfile.write(str(output_time))\n",
    "                    outfile.write(',')\n",
    "\n",
    "                    output_duration = '0' #todo : make this vary\n",
    "                    outfile.write(output_duration)\n",
    "                    outfile.write(',')\n",
    "                    output_marker_color = '#718637'\n",
    "                    outfile.write(output_marker_color)\n",
    "                    outfile.write(',')\n",
    "                    output_comment = comment\n",
    "                    outfile.write(output_comment)\n",
    "\n",
    "                    \n",
    "                    outfile.write('\\n')\n",
    "                print 'csv file done'\n",
    "\n",
    "print 'all done'\n",
    "\n",
    "f.close()"
   ]
  },
  {
   "cell_type": "code",
   "execution_count": 4,
   "metadata": {
    "collapsed": true
   },
   "outputs": [],
   "source": [
    "def timestamp2sec(timestamp):\n",
    "    import datetime\n",
    "    import time\n",
    "    x = time.strptime(timestamp,'%H:%M:%S')\n",
    "    output = datetime.timedelta(hours=x.tm_hour,minutes=x.tm_min,seconds=x.tm_sec).total_seconds()\n",
    "    \n",
    "    return output\n",
    "    \n"
   ]
  },
  {
   "cell_type": "code",
   "execution_count": null,
   "metadata": {
    "collapsed": true
   },
   "outputs": [],
   "source": []
  }
 ],
 "metadata": {
  "kernelspec": {
   "display_name": "Python 2",
   "language": "python",
   "name": "python2"
  },
  "language_info": {
   "codemirror_mode": {
    "name": "ipython",
    "version": 2
   },
   "file_extension": ".py",
   "mimetype": "text/x-python",
   "name": "python",
   "nbconvert_exporter": "python",
   "pygments_lexer": "ipython2",
   "version": "2.7.13"
  }
 },
 "nbformat": 4,
 "nbformat_minor": 2
}
