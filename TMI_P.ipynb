{
 "cells": [
  {
   "cell_type": "code",
   "execution_count": 15,
   "metadata": {},
   "outputs": [
    {
     "name": "stdout",
     "output_type": "stream",
     "text": [
      "asfdasdf\n",
      "181202_marker.csv\n"
     ]
    },
    {
     "ename": "NotImplementedError",
     "evalue": "",
     "output_type": "error",
     "traceback": [
      "\u001b[1;31m---------------------------------------------------------------------------\u001b[0m",
      "\u001b[1;31mNotImplementedError\u001b[0m                       Traceback (most recent call last)",
      "\u001b[1;32m<ipython-input-15-55711b2c7771>\u001b[0m in \u001b[0;36m<module>\u001b[1;34m()\u001b[0m\n\u001b[0;32m     53\u001b[0m \u001b[1;33m\u001b[0m\u001b[0m\n\u001b[0;32m     54\u001b[0m \u001b[1;33m\u001b[0m\u001b[0m\n\u001b[1;32m---> 55\u001b[1;33m             \u001b[1;32mraise\u001b[0m \u001b[0mNotImplementedError\u001b[0m\u001b[1;33m\u001b[0m\u001b[0m\n\u001b[0m\u001b[0;32m     56\u001b[0m \u001b[1;33m\u001b[0m\u001b[0m\n\u001b[0;32m     57\u001b[0m \u001b[0mf\u001b[0m\u001b[1;33m.\u001b[0m\u001b[0mclose\u001b[0m\u001b[1;33m(\u001b[0m\u001b[1;33m)\u001b[0m\u001b[1;33m\u001b[0m\u001b[0m\n",
      "\u001b[1;31mNotImplementedError\u001b[0m: "
     ]
    }
   ],
   "source": [
    "import os\n",
    "import csv\n",
    "\n",
    "directory = os.path.join(\"./twitch_marker_input/\")\n",
    "out_directory = './premiere_marker_output/'\n",
    "\n",
    "for root,dirs,files in os.walk(directory):\n",
    "    \n",
    "    for file in files:\n",
    "        print file\n",
    "        \n",
    "        if file.endswith(\".csv\"):\n",
    "            f=open(directory+file, 'r')\n",
    "            \n",
    "\n",
    "            with open(out_directory+file[:-4]+'_converted.csv','wb') as outfile:\n",
    "                #header\n",
    "                outfile.write('Screenlight Premiere Pro Marker Export 1.0\\n')\n",
    "                outfile.write('Name:,Time:,Duration:,Marker Color:,Comment:\\n')                \n",
    "                \n",
    "\n",
    "                #  perform calculation\n",
    "                reader = csv.reader(f)\n",
    "\n",
    "                for row in reader:\n",
    "\n",
    "                    timestamp = row[0]\n",
    "                    commentor = row[1]\n",
    "                    comment = row[3]\n",
    "\n",
    "                    output_name = commentor\n",
    "                    outfile.write(output_name)\n",
    "                    outfile.write(',')\n",
    "\n",
    "                    #=(MID(C2;1;2)*3600)+(MID(C2;4;2)*60)+MID(C2;7;2)+(MID(C2;10;2)/25)\n",
    "                    #timestamp to sec\n",
    "                    output_time=timestamp2sec(timestamp)\n",
    "                    outfile.write(str(output_time))\n",
    "                    outfile.write(',')\n",
    "\n",
    "                    output_duration = '0' #todo : make this vary\n",
    "                    outfile.write(output_duration)\n",
    "                    outfile.write(',')\n",
    "                    output_marker_color = '#718637'\n",
    "                    outfile.write(output_marker_color)\n",
    "                    outfile.write(',')\n",
    "                    output_comment = comment\n",
    "                    outfile.write(output_comment)\n",
    "\n",
    "                    \n",
    "                    outfile.write('\\n')\n",
    "                print 'csv file done'\n",
    "\n",
    "print 'all done'\n",
    "print 'v'\n",
    "\n",
    "f.close()"
   ]
  },
  {
   "cell_type": "code",
   "execution_count": 4,
   "metadata": {},
   "outputs": [],
   "source": [
    "def timestamp2sec(timestamp):\n",
    "    import datetime\n",
    "    import time\n",
    "    x = time.strptime(timestamp,'%H:%M:%S')\n",
    "    output = datetime.timedelta(hours=x.tm_hour,minutes=x.tm_min,seconds=x.tm_sec).total_seconds()\n",
    "    \n",
    "    return output\n",
    "    \n"
   ]
  },
  {
   "cell_type": "code",
   "execution_count": 1,
   "metadata": {},
   "outputs": [
    {
     "name": "stdout",
     "output_type": "stream",
     "text": [
      "asfdasdf\n"
     ]
    }
   ],
   "source": [
    "print 'asfdasdf'"
   ]
  },
  {
   "cell_type": "code",
   "execution_count": null,
   "metadata": {
    "collapsed": true
   },
   "outputs": [],
   "source": []
  }
 ],
 "metadata": {
  "kernelspec": {
   "display_name": "Python 2",
   "language": "python",
   "name": "python2"
  },
  "language_info": {
   "codemirror_mode": {
    "name": "ipython",
    "version": 2
   },
   "file_extension": ".py",
   "mimetype": "text/x-python",
   "name": "python",
   "nbconvert_exporter": "python",
   "pygments_lexer": "ipython2",
   "version": "2.7.13"
  }
 },
 "nbformat": 4,
 "nbformat_minor": 2
}
